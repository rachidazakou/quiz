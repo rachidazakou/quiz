{
 "cells": [
  {
   "cell_type": "markdown",
   "metadata": {
    "colab_type": "text",
    "id": "FY347VxWs_bJ"
   },
   "source": [
    "# Build a quizz\n",
    "\n",
    "---\n",
    "\n",
    "\n"
   ]
  },
  {
   "cell_type": "markdown",
   "metadata": {
    "colab_type": "text",
    "id": "qJizpyqVwYnF"
   },
   "source": [
    "Let's tackle our first project together. Find a partner and start coding a quiz together! Your program should: \n",
    "\n",
    "1. Ask a question to a user via the console \n",
    "2. Verify whether the answer is correct or not \n",
    "3. If the answer is correct, you should print out: `Good job! This is the right answer`\n",
    "\n",
    "* Else, it should print out : `Too bad! that is not the correct answer`\n",
    "\n",
    "4. Ask three questions following this model.\n",
    "\n"
   ]
  },
  {
   "cell_type": "code",
   "execution_count": 11,
   "metadata": {},
   "outputs": [
    {
     "name": "stdout",
     "output_type": "stream",
     "text": [
      "Your answer : Rachidatou\n",
      "Good job! This is the right answer\n",
      "Your answer : 1993\n",
      "Good job! This is the right answer\n",
      "Too bad! That is not the correct answer\n",
      "Too bad! That is not the correct answer\n",
      "Too bad! That is not the correct answer\n",
      "Your answer after .lower() function : elon musk\n",
      "Good job! This is the right answer\n"
     ]
    }
   ],
   "source": [
    "name = \"Rachidatou\"\n",
    "birth_year = 1993\n",
    "richest = \"Elon Musk\"\n",
    "\n",
    "name = input(\"What is my name?\")\n",
    "#je demande mon nom\n",
    "while name != \"Rachidatou\":\n",
    "    print(\"Too bad! That is not the correct answer\")\n",
    "    name = input(\"What is my name?\")\n",
    "\n",
    "print(\"Your answer :\", name)\n",
    "print(\"Good job! This is the right answer\") \n",
    "\n",
    "#je demande mon année de naissance\n",
    "birth_year = input (\"My birth year?\")\n",
    "while birth_year != \"1993\":\n",
    "    print(\"Too bad! That is not the correct answer\")\n",
    "    birth_year = input (\"My birth year?\")\n",
    "\n",
    "print(\"Your answer :\", birth_year)\n",
    "print(\"Good job! This is the right answer\") \n",
    "\n",
    "#qui est le plus riche ?\n",
    "richest = input(\"Who is the richest?\")\n",
    "while richest != \"elon musk\":\n",
    "    print(\"Too bad! That is not the correct answer\")\n",
    "    richest = input(\"Who is the richest?\")\n",
    "\n",
    "print(\"Your answer after .lower() function :\", richest.lower())\n",
    "print(\"Good job! This is the right answer\") \n",
    "\n",
    "\n",
    "#birth_year = input (\"My birth year?\")\n",
    "#richest = input(\"Who is the richest?\")"
   ]
  },
  {
   "cell_type": "code",
   "execution_count": 8,
   "metadata": {},
   "outputs": [],
   "source": [
    "questions = [\"my name?\", \"my birth year?\", \"the richest?\"]\n",
    "answers = [\"Rachidatou\", \"1993\", \"Elon Musk\"]\n",
    "\n",
    "def my_quiz(answer):\n",
    "    nb_essai = 0\n",
    "    for i in range(len(questions)):\n",
    "        nb_essai += 1\n",
    "        answer = answers [i]\n",
    "        given_answer = input(questions[i])\n",
    "        while given_answer != answer:\n",
    "            print(\"Too bad! That is not the correct answer\")\n",
    "            given_answer = input(questions[i])\n",
    "            if nb_essai > 3:\n",
    "                break\n",
    "        print(\"Your answer :\", given_answer)\n",
    "        print(\"Good job! This is the right answer\") \n",
    "        print(nb_essai)"
   ]
  },
  {
   "cell_type": "code",
   "execution_count": 9,
   "metadata": {},
   "outputs": [
    {
     "name": "stdout",
     "output_type": "stream",
     "text": [
      "Your answer : Rachidatou\n",
      "Good job! This is the right answer\n",
      "1\n",
      "Your answer : 1993\n",
      "Good job! This is the right answer\n",
      "2\n",
      "Your answer : Elon Musk\n",
      "Good job! This is the right answer\n",
      "3\n",
      "Your answer : Rachidatou\n",
      "Good job! This is the right answer\n",
      "1\n",
      "Your answer : 1993\n",
      "Good job! This is the right answer\n",
      "2\n",
      "Your answer : Elon Musk\n",
      "Good job! This is the right answer\n",
      "3\n",
      "Your answer : Rachidatou\n",
      "Good job! This is the right answer\n",
      "1\n",
      "Your answer : 1993\n",
      "Good job! This is the right answer\n",
      "2\n",
      "Your answer : Elon Musk\n",
      "Good job! This is the right answer\n",
      "3\n"
     ]
    }
   ],
   "source": [
    "for i in range(len(answers)):\n",
    "    my_quiz(answers[i])"
   ]
  },
  {
   "cell_type": "code",
   "execution_count": 1,
   "metadata": {
    "colab": {
     "base_uri": "https://localhost:8080/",
     "height": 136
    },
    "colab_type": "code",
    "id": "EQxWuVl7yFoU",
    "outputId": "cf3ee10c-9d8f-4d96-82b0-f730321d4a2f"
   },
   "outputs": [
    {
     "name": "stdout",
     "output_type": "stream",
     "text": [
      "Here you have our quiz !\n",
      "-------\n",
      "\n",
      "Your answer : 2\n",
      "Good job! This is the right answer\n",
      "Your answer : 1977\n",
      "Too bad! That is not the correct answer\n",
      "Your answer : ElON MUSk\n",
      "Your answer after .lower() function : elon musk\n",
      "Good job! This is the right answer\n"
     ]
    }
   ],
   "source": []
  },
  {
   "cell_type": "markdown",
   "metadata": {
    "colab_type": "text",
    "id": "sLMbYgaOyxiX"
   },
   "source": [
    "There's a problem with our quizz : if the user has not given the right answer, the program goes to next question. We would rather like to ask again the same question if the answer was wrong.\n",
    "\n",
    "5. Using a `while` loop, make sure that the same question will be asked again when the answer was wrong\n",
    "\n",
    "6. Rewrite your code such that this behaviour is applied to all questions."
   ]
  },
  {
   "cell_type": "code",
   "execution_count": 4,
   "metadata": {},
   "outputs": [
    {
     "name": "stdout",
     "output_type": "stream",
     "text": [
      "Your answer : Rachidatou\n",
      "Good job! This is the right answer\n",
      "Your answer : 1993\n",
      "Good job! This is the right answer\n",
      "Your answer after .lower() function : elon musk\n",
      "Good job! This is the right answer\n",
      "well done\n"
     ]
    }
   ],
   "source": []
  },
  {
   "cell_type": "code",
   "execution_count": 2,
   "metadata": {
    "colab": {
     "base_uri": "https://localhost:8080/",
     "height": 170
    },
    "colab_type": "code",
    "id": "csyxqJzBxPfN",
    "outputId": "0e671bec-2b70-424e-f110-d4792423dd7a"
   },
   "outputs": [
    {
     "name": "stdout",
     "output_type": "stream",
     "text": [
      "Here you have our quiz !\n",
      "-------\n",
      "\n",
      "Question 1\n",
      "Your answer : 3\n",
      "Too bad! That is not the correct answer\n",
      "Your answer : 2\n",
      "Good job! This is the right answer\n",
      "\n",
      "Question 2\n",
      "Your answer : \n",
      "Too bad! That is not the correct answer\n",
      "Your answer : \n",
      "Too bad! That is not the correct answer\n",
      "Your answer : 1976\n",
      "Good job! This is the right answer\n",
      "\n",
      "Question 3\n",
      "Your answer : elon musk\n",
      "Good job! This is the right answer\n",
      "\n",
      "Well done! You are the quiz winner!\n"
     ]
    }
   ],
   "source": []
  },
  {
   "cell_type": "markdown",
   "metadata": {
    "colab_type": "text",
    "id": "nh4voWn8x3dM"
   },
   "source": [
    "Now, we would like to tackle a last problem : we want to allow only 3 wrong answers (among all questions).\n",
    "\n",
    "7. Improve your code : if the user makes 3 wrong answers, the program should stop and print (\"Too bad, you lost the game !\")\n"
   ]
  },
  {
   "cell_type": "code",
   "execution_count": 12,
   "metadata": {},
   "outputs": [
    {
     "name": "stdout",
     "output_type": "stream",
     "text": [
      "Too bad! That is not the correct answer\n",
      "Too bad! That is not the correct answer\n",
      "Too bad! That is not the correct answer\n",
      "Too bad! That is not the correct answer\n",
      "Too bad! That is not the correct answer\n",
      "Too bad! That is not the correct answer\n",
      "Too bad! That is not the correct answer\n"
     ]
    }
   ],
   "source": [
    "name = \"Rachidatou\"\n",
    "birth_year = 1993\n",
    "richest = \"Elon Musk\"\n",
    "nb_essai = 0\n",
    "\n",
    "while True:\n",
    "    nb_essai +=1 \n",
    "\n",
    "    #je demande mon nom\n",
    "    while name != \"Rachidatou\":\n",
    "        print(\"Too bad! That is not the correct answer\")\n",
    "        name = input(\"What is my name?\")\n",
    "\n",
    "    print(\"Your answer :\", name)\n",
    "    print(\"Good job! This is the right answer\") \n",
    "\n",
    "    #je demande mon année de naissance\n",
    "    while int(birth_year) != 1993:\n",
    "        print(\"\"\"Too bad! That is not the correct answer\"\"\")\n",
    "        birth_year = input (\"My birth year?\")\n",
    "\n",
    "    print(\"Your answer :\", birth_year)\n",
    "    print(\"Good job! This is the right answer\") \n",
    "\n",
    "    #qui est le plus riche ?\n",
    "    while richest.lower() != \"elon musk\":\n",
    "        print(\"Too bad! That is not the correct answer\")\n",
    "        richest = input(\"Who is the richest?\")\n",
    "\n",
    "    print(\"Your answer after .lower() function :\", richest.lower())\n",
    "    print(\"Good job! This is the right answer\") \n",
    "\n",
    "    print(\"well done\")\n",
    "\n",
    "    if nb_essai == 3:\n",
    "        break\n",
    "\n",
    "#birth_year = input (\"My birth year?\")\n",
    "#richest = input(\"Who is the richest?\")"
   ]
  },
  {
   "cell_type": "code",
   "execution_count": 3,
   "metadata": {
    "colab": {
     "base_uri": "https://localhost:8080/",
     "height": 170
    },
    "colab_type": "code",
    "id": "adKPQe1Hsi2g",
    "outputId": "45d36fc8-90ae-4f00-b73a-73b1e6e57e6e",
    "tags": []
   },
   "outputs": [
    {
     "name": "stdout",
     "output_type": "stream",
     "text": [
      "Welcome to our quizz!\n",
      "You have 3 lives.\n",
      "\n",
      "Question 1:\n",
      "Your answer : 3\n",
      "Sorry, you have 2 chances left\n",
      "Your answer : 2\n",
      "Question 2:\n",
      "Your answer : 1977\n",
      "Sorry, you have 1 chances left\n",
      "Your answer : 1976\n",
      "Question 3:\n",
      "Your answer : elon musk\n",
      "Well done, you have win!\n"
     ]
    }
   ],
   "source": []
  },
  {
   "cell_type": "code",
   "execution_count": null,
   "metadata": {
    "colab": {},
    "colab_type": "code",
    "id": "rA-XJKh-orgc"
   },
   "outputs": [],
   "source": []
  }
 ],
 "metadata": {
  "colab": {
   "name": "Construire un quiz - SOLUTIONS S1-1A.ipynb",
   "provenance": []
  },
  "kernelspec": {
   "display_name": "Python 3.9.12 ('base')",
   "language": "python",
   "name": "python3"
  },
  "language_info": {
   "codemirror_mode": {
    "name": "ipython",
    "version": 3
   },
   "file_extension": ".py",
   "mimetype": "text/x-python",
   "name": "python",
   "nbconvert_exporter": "python",
   "pygments_lexer": "ipython3",
   "version": "3.9.12"
  },
  "vscode": {
   "interpreter": {
    "hash": "40d3a090f54c6569ab1632332b64b2c03c39dcf918b08424e98f38b5ae0af88f"
   }
  }
 },
 "nbformat": 4,
 "nbformat_minor": 1
}
